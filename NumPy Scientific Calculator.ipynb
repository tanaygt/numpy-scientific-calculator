{
 "cells": [
  {
   "cell_type": "code",
   "execution_count": 1,
   "id": "84e6e136-2ecc-46ae-af43-05f42677c138",
   "metadata": {},
   "outputs": [],
   "source": [
    "import numpy as np\n"
   ]
  },
  {
   "cell_type": "code",
   "execution_count": 2,
   "id": "4dcc3b9f-ffce-470b-a364-91e874fbfa31",
   "metadata": {},
   "outputs": [],
   "source": [
    "#DEFINE BASIC FUNCTION \n",
    "def add(x, y):\n",
    "    return np.add(x, y)\n",
    "\n",
    "def subtract(x, y):\n",
    "    return np.subtract(x, y)\n",
    "\n",
    "def multiply(x, y):\n",
    "    return np.multiply(x, y)\n",
    "\n",
    "def divide(x, y):\n",
    "    return np.divide(x, y)\n"
   ]
  },
  {
   "cell_type": "code",
   "execution_count": 3,
   "id": "658b57e2-3048-450f-836e-41c13493f2bb",
   "metadata": {},
   "outputs": [],
   "source": [
    "#ADVANCED SCIENTIFIC FUNCTION\n",
    "def power(x, y):\n",
    "    return np.power(x, y)\n",
    "\n",
    "def square_root(x):\n",
    "    return np.sqrt(x)\n",
    "\n",
    "def sine(x):\n",
    "    return np.sin(np.radians(x))\n",
    "\n",
    "def cosine(x):\n",
    "    return np.cos(np.radians(x))\n",
    "\n",
    "def tangent(x):\n",
    "    return np.tan(np.radians(x))\n",
    "\n",
    "def logarithm(x, base=np.e):\n",
    "    return np.log(x) / np.log(base)\n"
   ]
  },
  {
   "cell_type": "code",
   "execution_count": 4,
   "id": "7bd437c9-12e3-4020-a827-dc1bae70d268",
   "metadata": {},
   "outputs": [
    {
     "name": "stdout",
     "output_type": "stream",
     "text": [
      "Welcome to NumPy Scientific Calculator 🧮\n",
      "Operations: add, subtract, multiply, divide, power, sqrt, sin, cos, tan, log\n"
     ]
    },
    {
     "name": "stdin",
     "output_type": "stream",
     "text": [
      "Choose operation:  add\n",
      "Enter first number:  2\n",
      "Enter second number:  2\n"
     ]
    },
    {
     "name": "stdout",
     "output_type": "stream",
     "text": [
      "Result: 4.0\n"
     ]
    }
   ],
   "source": [
    "print(\"Welcome to NumPy Scientific Calculator 🧮\")\n",
    "print(\"Operations: add, subtract, multiply, divide, power, sqrt, sin, cos, tan, log\")\n",
    "\n",
    "operation = input(\"Choose operation: \").lower()\n",
    "\n",
    "if operation in [\"add\", \"subtract\", \"multiply\", \"divide\", \"power\"]:\n",
    "    x = float(input(\"Enter first number: \"))\n",
    "    y = float(input(\"Enter second number: \"))\n",
    "elif operation in [\"sqrt\", \"sin\", \"cos\", \"tan\", \"log\"]:\n",
    "    x = float(input(\"Enter number: \"))\n",
    "\n",
    "# Perform operations\n",
    "if operation == \"add\":\n",
    "    print(\"Result:\", add(x, y))\n",
    "elif operation == \"subtract\":\n",
    "    print(\"Result:\", subtract(x, y))\n",
    "elif operation == \"multiply\":\n",
    "    print(\"Result:\", multiply(x, y))\n",
    "elif operation == \"divide\":\n",
    "    print(\"Result:\", divide(x, y))\n",
    "elif operation == \"power\":\n",
    "    print(\"Result:\", power(x, y))\n",
    "elif operation == \"sqrt\":\n",
    "    print(\"Result:\", square_root(x))\n",
    "elif operation == \"sin\":\n",
    "    print(\"Result:\", sine(x))\n",
    "elif operation == \"cos\":\n",
    "    print(\"Result:\", cosine(x))\n",
    "elif operation == \"tan\":\n",
    "    print(\"Result:\", tangent(x))\n",
    "elif operation == \"log\":\n",
    "    base = float(input(\"Enter base (default is e): \") or np.e)\n",
    "    print(\"Result:\", logarithm(x, base))\n",
    "else:\n",
    "    print(\"Invalid operation!\")\n"
   ]
  },
  {
   "cell_type": "code",
   "execution_count": null,
   "id": "17ff122b-ffe9-44a4-83cb-21fec748b828",
   "metadata": {},
   "outputs": [],
   "source": []
  }
 ],
 "metadata": {
  "kernelspec": {
   "display_name": "Python [conda env:base] *",
   "language": "python",
   "name": "conda-base-py"
  },
  "language_info": {
   "codemirror_mode": {
    "name": "ipython",
    "version": 3
   },
   "file_extension": ".py",
   "mimetype": "text/x-python",
   "name": "python",
   "nbconvert_exporter": "python",
   "pygments_lexer": "ipython3",
   "version": "3.12.7"
  }
 },
 "nbformat": 4,
 "nbformat_minor": 5
}
